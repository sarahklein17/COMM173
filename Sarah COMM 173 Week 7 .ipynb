{
 "cells": [
  {
   "cell_type": "code",
   "execution_count": 27,
   "id": "45a3836c",
   "metadata": {},
   "outputs": [],
   "source": [
    "from selenium import webdriver\n",
    "import pandas as pd\n",
    "from selenium.webdriver.common.by import By\n",
    "from selenium.webdriver.support.ui import WebDriverWait\n",
    "from selenium.webdriver.support import expected_conditions as EC\n",
    "from selenium.webdriver.common.keys import Keys\n",
    "import time"
   ]
  },
  {
   "cell_type": "code",
   "execution_count": 28,
   "id": "8134d984",
   "metadata": {},
   "outputs": [],
   "source": [
    "url = 'https://www.youtube.com/results?search_query=costco+rotisserie+chicken'"
   ]
  },
  {
   "cell_type": "code",
   "execution_count": 29,
   "id": "e1e60361",
   "metadata": {},
   "outputs": [],
   "source": [
    "driver = webdriver.Chrome()\n",
    "driver.get(url)"
   ]
  },
  {
   "cell_type": "code",
   "execution_count": 30,
   "id": "806031c3",
   "metadata": {},
   "outputs": [],
   "source": [
    "def scroll_to_bottom(driver):\n",
    "    old_position = 0\n",
    "    new_position = None\n",
    "    \n",
    "    while (new_position != old_position):\n",
    "        old_position = driver.execute_script((\"return (window.pageYOffset !== undefined) ?\"\n",
    "                                            \" window.pageYOffset : (document.documentElement ||\"\n",
    "                                            \" document.body.parentNode || document.body);\"))\n",
    "        time.sleep(5)\n",
    "        driver.execute_script((\"var scrollingElement = (document.scrollingElement ||\"\n",
    "                              \" document.body);scrollingElement.scrollTop = \"\n",
    "                              \" scrollingElement.scrollHeight\"))\n",
    "        \n",
    "        time.sleep(5)\n",
    "        new_position = driver.execute_script((\"return (window.pageYOffset !== undefined) ?\"\n",
    "                                             \" window.pageYOffset : (document.documentElement ||\"\n",
    "                                             \" document.body.parentNode || documentBody);\"))"
   ]
  },
  {
   "cell_type": "code",
   "execution_count": 31,
   "id": "04a6d9a1",
   "metadata": {},
   "outputs": [],
   "source": [
    "scroll_to_bottom(driver)"
   ]
  },
  {
   "cell_type": "code",
   "execution_count": 32,
   "id": "2ece8192",
   "metadata": {},
   "outputs": [],
   "source": [
    "user_data = driver.find_elements(by=By.XPATH,value='//*[@id=\"video-title\"]')"
   ]
  },
  {
   "cell_type": "code",
   "execution_count": 33,
   "id": "99d23e9e",
   "metadata": {},
   "outputs": [
    {
     "name": "stdout",
     "output_type": "stream",
     "text": [
      "671\n"
     ]
    }
   ],
   "source": [
    "print(len(user_data))"
   ]
  },
  {
   "cell_type": "code",
   "execution_count": 34,
   "id": "055e34c8",
   "metadata": {},
   "outputs": [
    {
     "name": "stdout",
     "output_type": "stream",
     "text": [
      "564\n"
     ]
    }
   ],
   "source": [
    "links = []\n",
    "for i in user_data:\n",
    "    if (i.get_attribute('href') != None):\n",
    "        links.append(i.get_attribute('href'))\n",
    "\n",
    "print(len(links))"
   ]
  },
  {
   "cell_type": "code",
   "execution_count": 35,
   "id": "6f152514",
   "metadata": {},
   "outputs": [],
   "source": [
    "df = pd.DataFrame(columns = ['link', 'title', 'description', 'category'])"
   ]
  },
  {
   "cell_type": "code",
   "execution_count": 36,
   "id": "b3224906",
   "metadata": {},
   "outputs": [],
   "source": [
    "v_category = \"costco_chicken\"\n",
    "wait = WebDriverWait(driver, 50)\n",
    "for x in links:\n",
    "    driver.get(x)\n",
    "    v_id = x\n",
    "    v_title = wait.until(EC.presence_of_element_located(\n",
    "                   (By.CSS_SELECTOR,\"h1.style-scope.ytd-watch-metadata yt-formatted-string\"))).text\n",
    "\n",
    "    v_description =  wait.until(EC.presence_of_element_located(\n",
    "                                (By.CSS_SELECTOR,\"div#snippet yt-formatted-string\"))).text\n",
    "    df.loc[len(df)] = [v_id, v_title, v_description, v_category]"
   ]
  },
  {
   "cell_type": "code",
   "execution_count": 19,
   "id": "13f53a8b",
   "metadata": {},
   "outputs": [],
   "source": [
    "driver.quit()"
   ]
  },
  {
   "cell_type": "code",
   "execution_count": 37,
   "id": "31d9530f",
   "metadata": {},
   "outputs": [
    {
     "name": "stdout",
     "output_type": "stream",
     "text": [
      "                                                  link  \\\n",
      "0    https://www.youtube.com/watch?v=3qTZnwRbFY0&pp...   \n",
      "1    https://www.youtube.com/watch?v=jBFMDZ5ugd4&pp...   \n",
      "2    https://www.youtube.com/watch?v=L_2jL8vNiNM&pp...   \n",
      "3    https://www.youtube.com/watch?v=qkRAUoYLeaU&pp...   \n",
      "4    https://www.youtube.com/watch?v=gXjcwnEpILg&pp...   \n",
      "..                                                 ...   \n",
      "559  https://www.youtube.com/watch?v=wfq5o9rqEeU&pp...   \n",
      "560  https://www.youtube.com/watch?v=lEAewKPzZQk&pp...   \n",
      "561  https://www.youtube.com/watch?v=X06eLv6PZcI&pp...   \n",
      "562  https://www.youtube.com/watch?v=_LhVDt-qG-8&pp...   \n",
      "563  https://www.youtube.com/watch?v=IyWSnvgIs6s&pp...   \n",
      "\n",
      "                                                 title description  \\\n",
      "0    This Is Why Costco Only Charges $5 For A Rotis...               \n",
      "1       Removing Meat from a Costco Rotisserie Chicken               \n",
      "2    The Big Problem Costco Shoppers Are Currently ...               \n",
      "3    Pro Chef Turns 2 Rotisserie Chickens Into 4 Me...               \n",
      "4    Don't Eat Another Costco Rotisserie Chicken Un...               \n",
      "..                                                 ...         ...   \n",
      "559                      We Opened A New Restaurant!!!               \n",
      "560  I review viewers' skirts. (...and UruMaid appe...               \n",
      "561  [마블 스냅] \"마음껏 비웃어 그 비웃음 환호성으로 바꿔줄테니깐\" 가디언의 최고 히...               \n",
      "562  Culver's Drive Thru, Pot Roast Sandwich Meal, ...               \n",
      "563  Eating Culver's Pot Roast Sandwich & Mashed Po...               \n",
      "\n",
      "           category  \n",
      "0    costco_chicken  \n",
      "1    costco_chicken  \n",
      "2    costco_chicken  \n",
      "3    costco_chicken  \n",
      "4    costco_chicken  \n",
      "..              ...  \n",
      "559  costco_chicken  \n",
      "560  costco_chicken  \n",
      "561  costco_chicken  \n",
      "562  costco_chicken  \n",
      "563  costco_chicken  \n",
      "\n",
      "[564 rows x 4 columns]\n"
     ]
    }
   ],
   "source": [
    "print(df)"
   ]
  },
  {
   "cell_type": "code",
   "execution_count": 38,
   "id": "5475e3b8",
   "metadata": {},
   "outputs": [],
   "source": [
    "df.to_csv('comm173_youtube.csv', index=False)"
   ]
  },
  {
   "cell_type": "code",
   "execution_count": null,
   "id": "5d693605",
   "metadata": {},
   "outputs": [],
   "source": []
  }
 ],
 "metadata": {
  "kernelspec": {
   "display_name": "Python 3 (ipykernel)",
   "language": "python",
   "name": "python3"
  },
  "language_info": {
   "codemirror_mode": {
    "name": "ipython",
    "version": 3
   },
   "file_extension": ".py",
   "mimetype": "text/x-python",
   "name": "python",
   "nbconvert_exporter": "python",
   "pygments_lexer": "ipython3",
   "version": "3.10.9"
  }
 },
 "nbformat": 4,
 "nbformat_minor": 5
}
